{
  "nbformat": 4,
  "nbformat_minor": 0,
  "metadata": {
    "colab": {
      "provenance": []
    },
    "kernelspec": {
      "name": "python3",
      "display_name": "Python 3"
    },
    "language_info": {
      "name": "python"
    }
  },
  "cells": [
    {
      "cell_type": "code",
      "source": [
        "import numpy as np\n",
        "import pandas as pd\n",
        "import matplotlib.pyplot as plt\n",
        "from sklearn.model_selection import train_test_split\n",
        "from sklearn.metrics import classification_report,accuracy_score,confusion_matrix\n",
        "from sklearn.linear_model import LogisticRegression"
      ],
      "metadata": {
        "id": "ncI0Ymhyl1OV"
      },
      "execution_count": 1,
      "outputs": []
    },
    {
      "cell_type": "code",
      "source": [
        "data=pd.read_csv('/content/Social_Network_Ads.csv')\n",
        "data"
      ],
      "metadata": {
        "colab": {
          "base_uri": "https://localhost:8080/",
          "height": 423
        },
        "id": "XyybohBcl2_C",
        "outputId": "df41a91f-a57c-433f-d1eb-0697b3197a7e"
      },
      "execution_count": 2,
      "outputs": [
        {
          "output_type": "execute_result",
          "data": {
            "text/plain": [
              "     Age  EstimatedSalary  Purchased\n",
              "0     19            19000          0\n",
              "1     35            20000          0\n",
              "2     26            43000          0\n",
              "3     27            57000          0\n",
              "4     19            76000          0\n",
              "..   ...              ...        ...\n",
              "395   46            41000          1\n",
              "396   51            23000          1\n",
              "397   50            20000          1\n",
              "398   36            33000          0\n",
              "399   49            36000          1\n",
              "\n",
              "[400 rows x 3 columns]"
            ],
            "text/html": [
              "\n",
              "  <div id=\"df-346bebca-2d5a-4639-bf38-bd77db28f223\">\n",
              "    <div class=\"colab-df-container\">\n",
              "      <div>\n",
              "<style scoped>\n",
              "    .dataframe tbody tr th:only-of-type {\n",
              "        vertical-align: middle;\n",
              "    }\n",
              "\n",
              "    .dataframe tbody tr th {\n",
              "        vertical-align: top;\n",
              "    }\n",
              "\n",
              "    .dataframe thead th {\n",
              "        text-align: right;\n",
              "    }\n",
              "</style>\n",
              "<table border=\"1\" class=\"dataframe\">\n",
              "  <thead>\n",
              "    <tr style=\"text-align: right;\">\n",
              "      <th></th>\n",
              "      <th>Age</th>\n",
              "      <th>EstimatedSalary</th>\n",
              "      <th>Purchased</th>\n",
              "    </tr>\n",
              "  </thead>\n",
              "  <tbody>\n",
              "    <tr>\n",
              "      <th>0</th>\n",
              "      <td>19</td>\n",
              "      <td>19000</td>\n",
              "      <td>0</td>\n",
              "    </tr>\n",
              "    <tr>\n",
              "      <th>1</th>\n",
              "      <td>35</td>\n",
              "      <td>20000</td>\n",
              "      <td>0</td>\n",
              "    </tr>\n",
              "    <tr>\n",
              "      <th>2</th>\n",
              "      <td>26</td>\n",
              "      <td>43000</td>\n",
              "      <td>0</td>\n",
              "    </tr>\n",
              "    <tr>\n",
              "      <th>3</th>\n",
              "      <td>27</td>\n",
              "      <td>57000</td>\n",
              "      <td>0</td>\n",
              "    </tr>\n",
              "    <tr>\n",
              "      <th>4</th>\n",
              "      <td>19</td>\n",
              "      <td>76000</td>\n",
              "      <td>0</td>\n",
              "    </tr>\n",
              "    <tr>\n",
              "      <th>...</th>\n",
              "      <td>...</td>\n",
              "      <td>...</td>\n",
              "      <td>...</td>\n",
              "    </tr>\n",
              "    <tr>\n",
              "      <th>395</th>\n",
              "      <td>46</td>\n",
              "      <td>41000</td>\n",
              "      <td>1</td>\n",
              "    </tr>\n",
              "    <tr>\n",
              "      <th>396</th>\n",
              "      <td>51</td>\n",
              "      <td>23000</td>\n",
              "      <td>1</td>\n",
              "    </tr>\n",
              "    <tr>\n",
              "      <th>397</th>\n",
              "      <td>50</td>\n",
              "      <td>20000</td>\n",
              "      <td>1</td>\n",
              "    </tr>\n",
              "    <tr>\n",
              "      <th>398</th>\n",
              "      <td>36</td>\n",
              "      <td>33000</td>\n",
              "      <td>0</td>\n",
              "    </tr>\n",
              "    <tr>\n",
              "      <th>399</th>\n",
              "      <td>49</td>\n",
              "      <td>36000</td>\n",
              "      <td>1</td>\n",
              "    </tr>\n",
              "  </tbody>\n",
              "</table>\n",
              "<p>400 rows × 3 columns</p>\n",
              "</div>\n",
              "      <button class=\"colab-df-convert\" onclick=\"convertToInteractive('df-346bebca-2d5a-4639-bf38-bd77db28f223')\"\n",
              "              title=\"Convert this dataframe to an interactive table.\"\n",
              "              style=\"display:none;\">\n",
              "        \n",
              "  <svg xmlns=\"http://www.w3.org/2000/svg\" height=\"24px\"viewBox=\"0 0 24 24\"\n",
              "       width=\"24px\">\n",
              "    <path d=\"M0 0h24v24H0V0z\" fill=\"none\"/>\n",
              "    <path d=\"M18.56 5.44l.94 2.06.94-2.06 2.06-.94-2.06-.94-.94-2.06-.94 2.06-2.06.94zm-11 1L8.5 8.5l.94-2.06 2.06-.94-2.06-.94L8.5 2.5l-.94 2.06-2.06.94zm10 10l.94 2.06.94-2.06 2.06-.94-2.06-.94-.94-2.06-.94 2.06-2.06.94z\"/><path d=\"M17.41 7.96l-1.37-1.37c-.4-.4-.92-.59-1.43-.59-.52 0-1.04.2-1.43.59L10.3 9.45l-7.72 7.72c-.78.78-.78 2.05 0 2.83L4 21.41c.39.39.9.59 1.41.59.51 0 1.02-.2 1.41-.59l7.78-7.78 2.81-2.81c.8-.78.8-2.07 0-2.86zM5.41 20L4 18.59l7.72-7.72 1.47 1.35L5.41 20z\"/>\n",
              "  </svg>\n",
              "      </button>\n",
              "      \n",
              "  <style>\n",
              "    .colab-df-container {\n",
              "      display:flex;\n",
              "      flex-wrap:wrap;\n",
              "      gap: 12px;\n",
              "    }\n",
              "\n",
              "    .colab-df-convert {\n",
              "      background-color: #E8F0FE;\n",
              "      border: none;\n",
              "      border-radius: 50%;\n",
              "      cursor: pointer;\n",
              "      display: none;\n",
              "      fill: #1967D2;\n",
              "      height: 32px;\n",
              "      padding: 0 0 0 0;\n",
              "      width: 32px;\n",
              "    }\n",
              "\n",
              "    .colab-df-convert:hover {\n",
              "      background-color: #E2EBFA;\n",
              "      box-shadow: 0px 1px 2px rgba(60, 64, 67, 0.3), 0px 1px 3px 1px rgba(60, 64, 67, 0.15);\n",
              "      fill: #174EA6;\n",
              "    }\n",
              "\n",
              "    [theme=dark] .colab-df-convert {\n",
              "      background-color: #3B4455;\n",
              "      fill: #D2E3FC;\n",
              "    }\n",
              "\n",
              "    [theme=dark] .colab-df-convert:hover {\n",
              "      background-color: #434B5C;\n",
              "      box-shadow: 0px 1px 3px 1px rgba(0, 0, 0, 0.15);\n",
              "      filter: drop-shadow(0px 1px 2px rgba(0, 0, 0, 0.3));\n",
              "      fill: #FFFFFF;\n",
              "    }\n",
              "  </style>\n",
              "\n",
              "      <script>\n",
              "        const buttonEl =\n",
              "          document.querySelector('#df-346bebca-2d5a-4639-bf38-bd77db28f223 button.colab-df-convert');\n",
              "        buttonEl.style.display =\n",
              "          google.colab.kernel.accessAllowed ? 'block' : 'none';\n",
              "\n",
              "        async function convertToInteractive(key) {\n",
              "          const element = document.querySelector('#df-346bebca-2d5a-4639-bf38-bd77db28f223');\n",
              "          const dataTable =\n",
              "            await google.colab.kernel.invokeFunction('convertToInteractive',\n",
              "                                                     [key], {});\n",
              "          if (!dataTable) return;\n",
              "\n",
              "          const docLinkHtml = 'Like what you see? Visit the ' +\n",
              "            '<a target=\"_blank\" href=https://colab.research.google.com/notebooks/data_table.ipynb>data table notebook</a>'\n",
              "            + ' to learn more about interactive tables.';\n",
              "          element.innerHTML = '';\n",
              "          dataTable['output_type'] = 'display_data';\n",
              "          await google.colab.output.renderOutput(dataTable, element);\n",
              "          const docLink = document.createElement('div');\n",
              "          docLink.innerHTML = docLinkHtml;\n",
              "          element.appendChild(docLink);\n",
              "        }\n",
              "      </script>\n",
              "    </div>\n",
              "  </div>\n",
              "  "
            ]
          },
          "metadata": {},
          "execution_count": 2
        }
      ]
    },
    {
      "cell_type": "code",
      "source": [
        "data.shape"
      ],
      "metadata": {
        "colab": {
          "base_uri": "https://localhost:8080/"
        },
        "id": "vLXrgr3AuYif",
        "outputId": "7d2df927-d469-47b7-99cf-255282cdf9c1"
      },
      "execution_count": 3,
      "outputs": [
        {
          "output_type": "execute_result",
          "data": {
            "text/plain": [
              "(400, 3)"
            ]
          },
          "metadata": {},
          "execution_count": 3
        }
      ]
    },
    {
      "cell_type": "markdown",
      "source": [
        "Extract Features and Target"
      ],
      "metadata": {
        "id": "Bfzs7M2bmPda"
      }
    },
    {
      "cell_type": "code",
      "source": [
        "Y=data['Purchased']\n",
        "Y"
      ],
      "metadata": {
        "colab": {
          "base_uri": "https://localhost:8080/"
        },
        "id": "Qgn3phRrmBRy",
        "outputId": "b9227739-c52f-4192-fd7f-5b6cc81a530b"
      },
      "execution_count": 4,
      "outputs": [
        {
          "output_type": "execute_result",
          "data": {
            "text/plain": [
              "0      0\n",
              "1      0\n",
              "2      0\n",
              "3      0\n",
              "4      0\n",
              "      ..\n",
              "395    1\n",
              "396    1\n",
              "397    1\n",
              "398    0\n",
              "399    1\n",
              "Name: Purchased, Length: 400, dtype: int64"
            ]
          },
          "metadata": {},
          "execution_count": 4
        }
      ]
    },
    {
      "cell_type": "code",
      "source": [
        "X=data.drop('Purchased',axis=1)\n",
        "X"
      ],
      "metadata": {
        "colab": {
          "base_uri": "https://localhost:8080/",
          "height": 423
        },
        "id": "PZ-Xxg7imerV",
        "outputId": "beb4ff40-b569-4d7e-ba56-4c4fe557337c"
      },
      "execution_count": 5,
      "outputs": [
        {
          "output_type": "execute_result",
          "data": {
            "text/plain": [
              "     Age  EstimatedSalary\n",
              "0     19            19000\n",
              "1     35            20000\n",
              "2     26            43000\n",
              "3     27            57000\n",
              "4     19            76000\n",
              "..   ...              ...\n",
              "395   46            41000\n",
              "396   51            23000\n",
              "397   50            20000\n",
              "398   36            33000\n",
              "399   49            36000\n",
              "\n",
              "[400 rows x 2 columns]"
            ],
            "text/html": [
              "\n",
              "  <div id=\"df-1696792b-cea9-4b43-8b8a-67ae039ae893\">\n",
              "    <div class=\"colab-df-container\">\n",
              "      <div>\n",
              "<style scoped>\n",
              "    .dataframe tbody tr th:only-of-type {\n",
              "        vertical-align: middle;\n",
              "    }\n",
              "\n",
              "    .dataframe tbody tr th {\n",
              "        vertical-align: top;\n",
              "    }\n",
              "\n",
              "    .dataframe thead th {\n",
              "        text-align: right;\n",
              "    }\n",
              "</style>\n",
              "<table border=\"1\" class=\"dataframe\">\n",
              "  <thead>\n",
              "    <tr style=\"text-align: right;\">\n",
              "      <th></th>\n",
              "      <th>Age</th>\n",
              "      <th>EstimatedSalary</th>\n",
              "    </tr>\n",
              "  </thead>\n",
              "  <tbody>\n",
              "    <tr>\n",
              "      <th>0</th>\n",
              "      <td>19</td>\n",
              "      <td>19000</td>\n",
              "    </tr>\n",
              "    <tr>\n",
              "      <th>1</th>\n",
              "      <td>35</td>\n",
              "      <td>20000</td>\n",
              "    </tr>\n",
              "    <tr>\n",
              "      <th>2</th>\n",
              "      <td>26</td>\n",
              "      <td>43000</td>\n",
              "    </tr>\n",
              "    <tr>\n",
              "      <th>3</th>\n",
              "      <td>27</td>\n",
              "      <td>57000</td>\n",
              "    </tr>\n",
              "    <tr>\n",
              "      <th>4</th>\n",
              "      <td>19</td>\n",
              "      <td>76000</td>\n",
              "    </tr>\n",
              "    <tr>\n",
              "      <th>...</th>\n",
              "      <td>...</td>\n",
              "      <td>...</td>\n",
              "    </tr>\n",
              "    <tr>\n",
              "      <th>395</th>\n",
              "      <td>46</td>\n",
              "      <td>41000</td>\n",
              "    </tr>\n",
              "    <tr>\n",
              "      <th>396</th>\n",
              "      <td>51</td>\n",
              "      <td>23000</td>\n",
              "    </tr>\n",
              "    <tr>\n",
              "      <th>397</th>\n",
              "      <td>50</td>\n",
              "      <td>20000</td>\n",
              "    </tr>\n",
              "    <tr>\n",
              "      <th>398</th>\n",
              "      <td>36</td>\n",
              "      <td>33000</td>\n",
              "    </tr>\n",
              "    <tr>\n",
              "      <th>399</th>\n",
              "      <td>49</td>\n",
              "      <td>36000</td>\n",
              "    </tr>\n",
              "  </tbody>\n",
              "</table>\n",
              "<p>400 rows × 2 columns</p>\n",
              "</div>\n",
              "      <button class=\"colab-df-convert\" onclick=\"convertToInteractive('df-1696792b-cea9-4b43-8b8a-67ae039ae893')\"\n",
              "              title=\"Convert this dataframe to an interactive table.\"\n",
              "              style=\"display:none;\">\n",
              "        \n",
              "  <svg xmlns=\"http://www.w3.org/2000/svg\" height=\"24px\"viewBox=\"0 0 24 24\"\n",
              "       width=\"24px\">\n",
              "    <path d=\"M0 0h24v24H0V0z\" fill=\"none\"/>\n",
              "    <path d=\"M18.56 5.44l.94 2.06.94-2.06 2.06-.94-2.06-.94-.94-2.06-.94 2.06-2.06.94zm-11 1L8.5 8.5l.94-2.06 2.06-.94-2.06-.94L8.5 2.5l-.94 2.06-2.06.94zm10 10l.94 2.06.94-2.06 2.06-.94-2.06-.94-.94-2.06-.94 2.06-2.06.94z\"/><path d=\"M17.41 7.96l-1.37-1.37c-.4-.4-.92-.59-1.43-.59-.52 0-1.04.2-1.43.59L10.3 9.45l-7.72 7.72c-.78.78-.78 2.05 0 2.83L4 21.41c.39.39.9.59 1.41.59.51 0 1.02-.2 1.41-.59l7.78-7.78 2.81-2.81c.8-.78.8-2.07 0-2.86zM5.41 20L4 18.59l7.72-7.72 1.47 1.35L5.41 20z\"/>\n",
              "  </svg>\n",
              "      </button>\n",
              "      \n",
              "  <style>\n",
              "    .colab-df-container {\n",
              "      display:flex;\n",
              "      flex-wrap:wrap;\n",
              "      gap: 12px;\n",
              "    }\n",
              "\n",
              "    .colab-df-convert {\n",
              "      background-color: #E8F0FE;\n",
              "      border: none;\n",
              "      border-radius: 50%;\n",
              "      cursor: pointer;\n",
              "      display: none;\n",
              "      fill: #1967D2;\n",
              "      height: 32px;\n",
              "      padding: 0 0 0 0;\n",
              "      width: 32px;\n",
              "    }\n",
              "\n",
              "    .colab-df-convert:hover {\n",
              "      background-color: #E2EBFA;\n",
              "      box-shadow: 0px 1px 2px rgba(60, 64, 67, 0.3), 0px 1px 3px 1px rgba(60, 64, 67, 0.15);\n",
              "      fill: #174EA6;\n",
              "    }\n",
              "\n",
              "    [theme=dark] .colab-df-convert {\n",
              "      background-color: #3B4455;\n",
              "      fill: #D2E3FC;\n",
              "    }\n",
              "\n",
              "    [theme=dark] .colab-df-convert:hover {\n",
              "      background-color: #434B5C;\n",
              "      box-shadow: 0px 1px 3px 1px rgba(0, 0, 0, 0.15);\n",
              "      filter: drop-shadow(0px 1px 2px rgba(0, 0, 0, 0.3));\n",
              "      fill: #FFFFFF;\n",
              "    }\n",
              "  </style>\n",
              "\n",
              "      <script>\n",
              "        const buttonEl =\n",
              "          document.querySelector('#df-1696792b-cea9-4b43-8b8a-67ae039ae893 button.colab-df-convert');\n",
              "        buttonEl.style.display =\n",
              "          google.colab.kernel.accessAllowed ? 'block' : 'none';\n",
              "\n",
              "        async function convertToInteractive(key) {\n",
              "          const element = document.querySelector('#df-1696792b-cea9-4b43-8b8a-67ae039ae893');\n",
              "          const dataTable =\n",
              "            await google.colab.kernel.invokeFunction('convertToInteractive',\n",
              "                                                     [key], {});\n",
              "          if (!dataTable) return;\n",
              "\n",
              "          const docLinkHtml = 'Like what you see? Visit the ' +\n",
              "            '<a target=\"_blank\" href=https://colab.research.google.com/notebooks/data_table.ipynb>data table notebook</a>'\n",
              "            + ' to learn more about interactive tables.';\n",
              "          element.innerHTML = '';\n",
              "          dataTable['output_type'] = 'display_data';\n",
              "          await google.colab.output.renderOutput(dataTable, element);\n",
              "          const docLink = document.createElement('div');\n",
              "          docLink.innerHTML = docLinkHtml;\n",
              "          element.appendChild(docLink);\n",
              "        }\n",
              "      </script>\n",
              "    </div>\n",
              "  </div>\n",
              "  "
            ]
          },
          "metadata": {},
          "execution_count": 5
        }
      ]
    },
    {
      "cell_type": "markdown",
      "source": [
        "Visualization"
      ],
      "metadata": {
        "id": "et6miTSvmoia"
      }
    },
    {
      "cell_type": "code",
      "source": [
        "plt.hist(X['Age'],bins=10)\n",
        "plt.title(\"Age Vs. Purchased\")\n",
        "plt.show()"
      ],
      "metadata": {
        "colab": {
          "base_uri": "https://localhost:8080/",
          "height": 452
        },
        "id": "RIcJ1TH1mwUA",
        "outputId": "e4d7fd8c-dbe5-4b43-fc36-00062c93bb15"
      },
      "execution_count": 6,
      "outputs": [
        {
          "output_type": "display_data",
          "data": {
            "text/plain": [
              "<Figure size 640x480 with 1 Axes>"
            ],
            "image/png": "[encoded data removed]"
          },
          "metadata": {}
        }
      ]
    },
    {
      "cell_type": "code",
      "source": [
        "plt.hist(X['EstimatedSalary'],bins=10)\n",
        "plt.title(\"Estimated Salary Vs. Purchased\")\n",
        "plt.show()"
      ],
      "metadata": {
        "colab": {
          "base_uri": "https://localhost:8080/",
          "height": 452
        },
        "id": "D7rUp5dnnRBw",
        "outputId": "b25c6c42-4188-4aff-f9d3-b544c75bdd67"
      },
      "execution_count": 7,
      "outputs": [
        {
          "output_type": "display_data",
          "data": {
            "text/plain": [
              "<Figure size 640x480 with 1 Axes>"
            ],
            "image/png": "[encoded data removed]"
          },
          "metadata": {}
        }
      ]
    },
    {
      "cell_type": "markdown",
      "source": [
        "Splitting The Dataset"
      ],
      "metadata": {
        "id": "km3QYESAnEBM"
      }
    },
    {
      "cell_type": "code",
      "source": [
        "X_train,X_test,Y_train,Y_test=train_test_split(X,Y,test_size=0.25, random_state=5)"
      ],
      "metadata": {
        "id": "DzdV5TQYnmBm"
      },
      "execution_count": 8,
      "outputs": []
    },
    {
      "cell_type": "code",
      "source": [
        "X_train"
      ],
      "metadata": {
        "colab": {
          "base_uri": "https://localhost:8080/",
          "height": 423
        },
        "id": "4S8B9yGZoKMi",
        "outputId": "7d8a9d20-d534-4701-bce0-d05fcb6319c5"
      },
      "execution_count": 9,
      "outputs": [
        {
          "output_type": "execute_result",
          "data": {
            "text/plain": [
              "     Age  EstimatedSalary\n",
              "24    46            23000\n",
              "33    28            44000\n",
              "396   51            23000\n",
              "273   39           106000\n",
              "246   35            50000\n",
              "..   ...              ...\n",
              "73    33           113000\n",
              "118   40            59000\n",
              "189   28            32000\n",
              "206   55           130000\n",
              "355   60            34000\n",
              "\n",
              "[300 rows x 2 columns]"
            ],
            "text/html": [
              "\n",
              "  <div id=\"df-f30f1dbe-a23d-47e5-81f6-2ce9e8ea53ec\">\n",
              "    <div class=\"colab-df-container\">\n",
              "      <div>\n",
              "<style scoped>\n",
              "    .dataframe tbody tr th:only-of-type {\n",
              "        vertical-align: middle;\n",
              "    }\n",
              "\n",
              "    .dataframe tbody tr th {\n",
              "        vertical-align: top;\n",
              "    }\n",
              "\n",
              "    .dataframe thead th {\n",
              "        text-align: right;\n",
              "    }\n",
              "</style>\n",
              "<table border=\"1\" class=\"dataframe\">\n",
              "  <thead>\n",
              "    <tr style=\"text-align: right;\">\n",
              "      <th></th>\n",
              "      <th>Age</th>\n",
              "      <th>EstimatedSalary</th>\n",
              "    </tr>\n",
              "  </thead>\n",
              "  <tbody>\n",
              "    <tr>\n",
              "      <th>24</th>\n",
              "      <td>46</td>\n",
              "      <td>23000</td>\n",
              "    </tr>\n",
              "    <tr>\n",
              "      <th>33</th>\n",
              "      <td>28</td>\n",
              "      <td>44000</td>\n",
              "    </tr>\n",
              "    <tr>\n",
              "      <th>396</th>\n",
              "      <td>51</td>\n",
              "      <td>23000</td>\n",
              "    </tr>\n",
              "    <tr>\n",
              "      <th>273</th>\n",
              "      <td>39</td>\n",
              "      <td>106000</td>\n",
              "    </tr>\n",
              "    <tr>\n",
              "      <th>246</th>\n",
              "      <td>35</td>\n",
              "      <td>50000</td>\n",
              "    </tr>\n",
              "    <tr>\n",
              "      <th>...</th>\n",
              "      <td>...</td>\n",
              "      <td>...</td>\n",
              "    </tr>\n",
              "    <tr>\n",
              "      <th>73</th>\n",
              "      <td>33</td>\n",
              "      <td>113000</td>\n",
              "    </tr>\n",
              "    <tr>\n",
              "      <th>118</th>\n",
              "      <td>40</td>\n",
              "      <td>59000</td>\n",
              "    </tr>\n",
              "    <tr>\n",
              "      <th>189</th>\n",
              "      <td>28</td>\n",
              "      <td>32000</td>\n",
              "    </tr>\n",
              "    <tr>\n",
              "      <th>206</th>\n",
              "      <td>55</td>\n",
              "      <td>130000</td>\n",
              "    </tr>\n",
              "    <tr>\n",
              "      <th>355</th>\n",
              "      <td>60</td>\n",
              "      <td>34000</td>\n",
              "    </tr>\n",
              "  </tbody>\n",
              "</table>\n",
              "<p>300 rows × 2 columns</p>\n",
              "</div>\n",
              "      <button class=\"colab-df-convert\" onclick=\"convertToInteractive('df-f30f1dbe-a23d-47e5-81f6-2ce9e8ea53ec')\"\n",
              "              title=\"Convert this dataframe to an interactive table.\"\n",
              "              style=\"display:none;\">\n",
              "        \n",
              "  <svg xmlns=\"http://www.w3.org/2000/svg\" height=\"24px\"viewBox=\"0 0 24 24\"\n",
              "       width=\"24px\">\n",
              "    <path d=\"M0 0h24v24H0V0z\" fill=\"none\"/>\n",
              "    <path d=\"M18.56 5.44l.94 2.06.94-2.06 2.06-.94-2.06-.94-.94-2.06-.94 2.06-2.06.94zm-11 1L8.5 8.5l.94-2.06 2.06-.94-2.06-.94L8.5 2.5l-.94 2.06-2.06.94zm10 10l.94 2.06.94-2.06 2.06-.94-2.06-.94-.94-2.06-.94 2.06-2.06.94z\"/><path d=\"M17.41 7.96l-1.37-1.37c-.4-.4-.92-.59-1.43-.59-.52 0-1.04.2-1.43.59L10.3 9.45l-7.72 7.72c-.78.78-.78 2.05 0 2.83L4 21.41c.39.39.9.59 1.41.59.51 0 1.02-.2 1.41-.59l7.78-7.78 2.81-2.81c.8-.78.8-2.07 0-2.86zM5.41 20L4 18.59l7.72-7.72 1.47 1.35L5.41 20z\"/>\n",
              "  </svg>\n",
              "      </button>\n",
              "      \n",
              "  <style>\n",
              "    .colab-df-container {\n",
              "      display:flex;\n",
              "      flex-wrap:wrap;\n",
              "      gap: 12px;\n",
              "    }\n",
              "\n",
              "    .colab-df-convert {\n",
              "      background-color: #E8F0FE;\n",
              "      border: none;\n",
              "      border-radius: 50%;\n",
              "      cursor: pointer;\n",
              "      display: none;\n",
              "      fill: #1967D2;\n",
              "      height: 32px;\n",
              "      padding: 0 0 0 0;\n",
              "      width: 32px;\n",
              "    }\n",
              "\n",
              "    .colab-df-convert:hover {\n",
              "      background-color: #E2EBFA;\n",
              "      box-shadow: 0px 1px 2px rgba(60, 64, 67, 0.3), 0px 1px 3px 1px rgba(60, 64, 67, 0.15);\n",
              "      fill: #174EA6;\n",
              "    }\n",
              "\n",
              "    [theme=dark] .colab-df-convert {\n",
              "      background-color: #3B4455;\n",
              "      fill: #D2E3FC;\n",
              "    }\n",
              "\n",
              "    [theme=dark] .colab-df-convert:hover {\n",
              "      background-color: #434B5C;\n",
              "      box-shadow: 0px 1px 3px 1px rgba(0, 0, 0, 0.15);\n",
              "      filter: drop-shadow(0px 1px 2px rgba(0, 0, 0, 0.3));\n",
              "      fill: #FFFFFF;\n",
              "    }\n",
              "  </style>\n",
              "\n",
              "      <script>\n",
              "        const buttonEl =\n",
              "          document.querySelector('#df-f30f1dbe-a23d-47e5-81f6-2ce9e8ea53ec button.colab-df-convert');\n",
              "        buttonEl.style.display =\n",
              "          google.colab.kernel.accessAllowed ? 'block' : 'none';\n",
              "\n",
              "        async function convertToInteractive(key) {\n",
              "          const element = document.querySelector('#df-f30f1dbe-a23d-47e5-81f6-2ce9e8ea53ec');\n",
              "          const dataTable =\n",
              "            await google.colab.kernel.invokeFunction('convertToInteractive',\n",
              "                                                     [key], {});\n",
              "          if (!dataTable) return;\n",
              "\n",
              "          const docLinkHtml = 'Like what you see? Visit the ' +\n",
              "            '<a target=\"_blank\" href=https://colab.research.google.com/notebooks/data_table.ipynb>data table notebook</a>'\n",
              "            + ' to learn more about interactive tables.';\n",
              "          element.innerHTML = '';\n",
              "          dataTable['output_type'] = 'display_data';\n",
              "          await google.colab.output.renderOutput(dataTable, element);\n",
              "          const docLink = document.createElement('div');\n",
              "          docLink.innerHTML = docLinkHtml;\n",
              "          element.appendChild(docLink);\n",
              "        }\n",
              "      </script>\n",
              "    </div>\n",
              "  </div>\n",
              "  "
            ]
          },
          "metadata": {},
          "execution_count": 9
        }
      ]
    },
    {
      "cell_type": "code",
      "source": [
        "Y_train"
      ],
      "metadata": {
        "colab": {
          "base_uri": "https://localhost:8080/"
        },
        "id": "p1-K6SjBoM0m",
        "outputId": "19bf27c3-a68c-4c0f-937d-76b33af1eed2"
      },
      "execution_count": 10,
      "outputs": [
        {
          "output_type": "execute_result",
          "data": {
            "text/plain": [
              "24     1\n",
              "33     0\n",
              "396    1\n",
              "273    1\n",
              "246    0\n",
              "      ..\n",
              "73     0\n",
              "118    0\n",
              "189    0\n",
              "206    1\n",
              "355    1\n",
              "Name: Purchased, Length: 300, dtype: int64"
            ]
          },
          "metadata": {},
          "execution_count": 10
        }
      ]
    },
    {
      "cell_type": "code",
      "source": [
        "X_test"
      ],
      "metadata": {
        "colab": {
          "base_uri": "https://localhost:8080/",
          "height": 423
        },
        "id": "BAUU8wOSoPzT",
        "outputId": "4626a275-109a-472d-caba-91f7948e7541"
      },
      "execution_count": 11,
      "outputs": [
        {
          "output_type": "execute_result",
          "data": {
            "text/plain": [
              "     Age  EstimatedSalary\n",
              "218   46            96000\n",
              "191   19            26000\n",
              "117   36            52000\n",
              "50    24            32000\n",
              "348   39            77000\n",
              "..   ...              ...\n",
              "368   38            71000\n",
              "89    35            50000\n",
              "182   32           117000\n",
              "219   59           143000\n",
              "18    46            28000\n",
              "\n",
              "[100 rows x 2 columns]"
            ],
            "text/html": [
              "\n",
              "  <div id=\"df-ea9d7a5c-fe6b-4475-9220-2f66139a149d\">\n",
              "    <div class=\"colab-df-container\">\n",
              "      <div>\n",
              "<style scoped>\n",
              "    .dataframe tbody tr th:only-of-type {\n",
              "        vertical-align: middle;\n",
              "    }\n",
              "\n",
              "    .dataframe tbody tr th {\n",
              "        vertical-align: top;\n",
              "    }\n",
              "\n",
              "    .dataframe thead th {\n",
              "        text-align: right;\n",
              "    }\n",
              "</style>\n",
              "<table border=\"1\" class=\"dataframe\">\n",
              "  <thead>\n",
              "    <tr style=\"text-align: right;\">\n",
              "      <th></th>\n",
              "      <th>Age</th>\n",
              "      <th>EstimatedSalary</th>\n",
              "    </tr>\n",
              "  </thead>\n",
              "  <tbody>\n",
              "    <tr>\n",
              "      <th>218</th>\n",
              "      <td>46</td>\n",
              "      <td>96000</td>\n",
              "    </tr>\n",
              "    <tr>\n",
              "      <th>191</th>\n",
              "      <td>19</td>\n",
              "      <td>26000</td>\n",
              "    </tr>\n",
              "    <tr>\n",
              "      <th>117</th>\n",
              "      <td>36</td>\n",
              "      <td>52000</td>\n",
              "    </tr>\n",
              "    <tr>\n",
              "      <th>50</th>\n",
              "      <td>24</td>\n",
              "      <td>32000</td>\n",
              "    </tr>\n",
              "    <tr>\n",
              "      <th>348</th>\n",
              "      <td>39</td>\n",
              "      <td>77000</td>\n",
              "    </tr>\n",
              "    <tr>\n",
              "      <th>...</th>\n",
              "      <td>...</td>\n",
              "      <td>...</td>\n",
              "    </tr>\n",
              "    <tr>\n",
              "      <th>368</th>\n",
              "      <td>38</td>\n",
              "      <td>71000</td>\n",
              "    </tr>\n",
              "    <tr>\n",
              "      <th>89</th>\n",
              "      <td>35</td>\n",
              "      <td>50000</td>\n",
              "    </tr>\n",
              "    <tr>\n",
              "      <th>182</th>\n",
              "      <td>32</td>\n",
              "      <td>117000</td>\n",
              "    </tr>\n",
              "    <tr>\n",
              "      <th>219</th>\n",
              "      <td>59</td>\n",
              "      <td>143000</td>\n",
              "    </tr>\n",
              "    <tr>\n",
              "      <th>18</th>\n",
              "      <td>46</td>\n",
              "      <td>28000</td>\n",
              "    </tr>\n",
              "  </tbody>\n",
              "</table>\n",
              "<p>100 rows × 2 columns</p>\n",
              "</div>\n",
              "      <button class=\"colab-df-convert\" onclick=\"convertToInteractive('df-ea9d7a5c-fe6b-4475-9220-2f66139a149d')\"\n",
              "              title=\"Convert this dataframe to an interactive table.\"\n",
              "              style=\"display:none;\">\n",
              "        \n",
              "  <svg xmlns=\"http://www.w3.org/2000/svg\" height=\"24px\"viewBox=\"0 0 24 24\"\n",
              "       width=\"24px\">\n",
              "    <path d=\"M0 0h24v24H0V0z\" fill=\"none\"/>\n",
              "    <path d=\"M18.56 5.44l.94 2.06.94-2.06 2.06-.94-2.06-.94-.94-2.06-.94 2.06-2.06.94zm-11 1L8.5 8.5l.94-2.06 2.06-.94-2.06-.94L8.5 2.5l-.94 2.06-2.06.94zm10 10l.94 2.06.94-2.06 2.06-.94-2.06-.94-.94-2.06-.94 2.06-2.06.94z\"/><path d=\"M17.41 7.96l-1.37-1.37c-.4-.4-.92-.59-1.43-.59-.52 0-1.04.2-1.43.59L10.3 9.45l-7.72 7.72c-.78.78-.78 2.05 0 2.83L4 21.41c.39.39.9.59 1.41.59.51 0 1.02-.2 1.41-.59l7.78-7.78 2.81-2.81c.8-.78.8-2.07 0-2.86zM5.41 20L4 18.59l7.72-7.72 1.47 1.35L5.41 20z\"/>\n",
              "  </svg>\n",
              "      </button>\n",
              "      \n",
              "  <style>\n",
              "    .colab-df-container {\n",
              "      display:flex;\n",
              "      flex-wrap:wrap;\n",
              "      gap: 12px;\n",
              "    }\n",
              "\n",
              "    .colab-df-convert {\n",
              "      background-color: #E8F0FE;\n",
              "      border: none;\n",
              "      border-radius: 50%;\n",
              "      cursor: pointer;\n",
              "      display: none;\n",
              "      fill: #1967D2;\n",
              "      height: 32px;\n",
              "      padding: 0 0 0 0;\n",
              "      width: 32px;\n",
              "    }\n",
              "\n",
              "    .colab-df-convert:hover {\n",
              "      background-color: #E2EBFA;\n",
              "      box-shadow: 0px 1px 2px rgba(60, 64, 67, 0.3), 0px 1px 3px 1px rgba(60, 64, 67, 0.15);\n",
              "      fill: #174EA6;\n",
              "    }\n",
              "\n",
              "    [theme=dark] .colab-df-convert {\n",
              "      background-color: #3B4455;\n",
              "      fill: #D2E3FC;\n",
              "    }\n",
              "\n",
              "    [theme=dark] .colab-df-convert:hover {\n",
              "      background-color: #434B5C;\n",
              "      box-shadow: 0px 1px 3px 1px rgba(0, 0, 0, 0.15);\n",
              "      filter: drop-shadow(0px 1px 2px rgba(0, 0, 0, 0.3));\n",
              "      fill: #FFFFFF;\n",
              "    }\n",
              "  </style>\n",
              "\n",
              "      <script>\n",
              "        const buttonEl =\n",
              "          document.querySelector('#df-ea9d7a5c-fe6b-4475-9220-2f66139a149d button.colab-df-convert');\n",
              "        buttonEl.style.display =\n",
              "          google.colab.kernel.accessAllowed ? 'block' : 'none';\n",
              "\n",
              "        async function convertToInteractive(key) {\n",
              "          const element = document.querySelector('#df-ea9d7a5c-fe6b-4475-9220-2f66139a149d');\n",
              "          const dataTable =\n",
              "            await google.colab.kernel.invokeFunction('convertToInteractive',\n",
              "                                                     [key], {});\n",
              "          if (!dataTable) return;\n",
              "\n",
              "          const docLinkHtml = 'Like what you see? Visit the ' +\n",
              "            '<a target=\"_blank\" href=https://colab.research.google.com/notebooks/data_table.ipynb>data table notebook</a>'\n",
              "            + ' to learn more about interactive tables.';\n",
              "          element.innerHTML = '';\n",
              "          dataTable['output_type'] = 'display_data';\n",
              "          await google.colab.output.renderOutput(dataTable, element);\n",
              "          const docLink = document.createElement('div');\n",
              "          docLink.innerHTML = docLinkHtml;\n",
              "          element.appendChild(docLink);\n",
              "        }\n",
              "      </script>\n",
              "    </div>\n",
              "  </div>\n",
              "  "
            ]
          },
          "metadata": {},
          "execution_count": 11
        }
      ]
    },
    {
      "cell_type": "code",
      "source": [
        "Y_test"
      ],
      "metadata": {
        "colab": {
          "base_uri": "https://localhost:8080/"
        },
        "id": "x5MHhrnMoZf0",
        "outputId": "66c2ce61-ac24-470a-cc7d-160ce59ac4b4"
      },
      "execution_count": 12,
      "outputs": [
        {
          "output_type": "execute_result",
          "data": {
            "text/plain": [
              "218    0\n",
              "191    0\n",
              "117    0\n",
              "50     0\n",
              "348    0\n",
              "      ..\n",
              "368    0\n",
              "89     0\n",
              "182    1\n",
              "219    1\n",
              "18     1\n",
              "Name: Purchased, Length: 100, dtype: int64"
            ]
          },
          "metadata": {},
          "execution_count": 12
        }
      ]
    },
    {
      "cell_type": "markdown",
      "source": [
        "Normalization"
      ],
      "metadata": {
        "id": "ACjy-W8norWX"
      }
    },
    {
      "cell_type": "code",
      "source": [
        "from sklearn.preprocessing import StandardScaler"
      ],
      "metadata": {
        "id": "2PvwVVTsohkM"
      },
      "execution_count": 13,
      "outputs": []
    },
    {
      "cell_type": "code",
      "source": [
        "Sc=StandardScaler()"
      ],
      "metadata": {
        "id": "iJIwU0McoumD"
      },
      "execution_count": 14,
      "outputs": []
    },
    {
      "cell_type": "code",
      "source": [
        "Sc.fit(X_train)\n",
        "X_tr=Sc.transform(X_train)\n",
        "X_tr"
      ],
      "metadata": {
        "colab": {
          "base_uri": "https://localhost:8080/"
        },
        "id": "7J0d-MK4o3uz",
        "outputId": "2d33e379-c0f0-4a9c-ae4b-b809afc02ce1"
      },
      "execution_count": 15,
      "outputs": [
        {
          "output_type": "execute_result",
          "data": {
            "text/plain": [
              "array([[ 0.77063564, -1.37090753],\n",
              "       [-0.95681661, -0.74731782],\n",
              "       [ 1.25048349, -1.37090753],\n",
              "       [ 0.09884866,  1.09375655],\n",
              "       [-0.28502962, -0.56914934],\n",
              "       [-1.14875575,  0.49986159],\n",
              "       [-1.05278618,  0.44047209],\n",
              "       [-1.14875575,  0.3216931 ],\n",
              "       [ 1.5383922 ,  1.15314605],\n",
              "       [-0.95681661, -0.3018966 ],\n",
              "       [ 2.01824005, -0.80670732],\n",
              "       [ 0.09884866, -0.80670732],\n",
              "       [ 2.01824005,  0.55925109],\n",
              "       [ 0.86660521, -0.53945459],\n",
              "       [-0.28502962,  0.11382987],\n",
              "       [-0.86084704,  0.17321936],\n",
              "       [ 0.2907878 , -0.27220186],\n",
              "       [-0.28502962, -0.27220186],\n",
              "       [ 0.38675737,  2.37063071],\n",
              "       [ 1.73033134,  1.89551474],\n",
              "       [ 0.19481823, -0.24250711],\n",
              "       [ 1.05854435, -1.22243379],\n",
              "       [-0.18906005, -0.56914934],\n",
              "       [ 1.44242263,  0.3810826 ],\n",
              "       [-0.28502962, -1.40060228],\n",
              "       [ 0.96257478, -1.07396005],\n",
              "       [ 1.82630091, -0.27220186],\n",
              "       [-0.28502962,  0.55925109],\n",
              "       [-1.14875575, -1.60846551],\n",
              "       [-1.43666446, -1.45999177],\n",
              "       [-0.09309048, -0.50975984],\n",
              "       [-1.24472532,  0.29199835],\n",
              "       [-0.18906005,  1.68765151],\n",
              "       [ 0.96257478, -1.01457056],\n",
              "       [-0.86084704,  0.3216931 ],\n",
              "       [-1.53263403, -1.51938127],\n",
              "       [ 1.73033134, -0.27220186],\n",
              "       [ 0.96257478,  2.13307273],\n",
              "       [-0.57293833,  1.42039878],\n",
              "       [ 1.5383922 ,  0.02474562],\n",
              "       [-1.05278618, -1.13334955],\n",
              "       [ 0.00287909, -0.56914934],\n",
              "       [ 0.86660521, -1.45999177],\n",
              "       [ 1.34645306,  2.40032546],\n",
              "       [-0.76487747, -0.21281236],\n",
              "       [-1.24472532,  0.52955634],\n",
              "       [-1.91651231, -0.74731782],\n",
              "       [ 0.77063564,  0.3810826 ],\n",
              "       [-1.14875575, -0.50975984],\n",
              "       [ 0.67466608, -1.28182329],\n",
              "       [-1.43666446,  0.3810826 ],\n",
              "       [ 0.57869651,  2.07368323],\n",
              "       [ 0.86660521, -1.37090753],\n",
              "       [-0.28502962, -1.31151803],\n",
              "       [-1.53263403, -0.18311761],\n",
              "       [-1.14875575, -1.01457056],\n",
              "       [-1.82054274,  0.20291411],\n",
              "       [ 0.00287909, -0.4206756 ],\n",
              "       [-0.57293833,  0.49986159],\n",
              "       [-0.86084704,  2.34093596],\n",
              "       [ 0.2907878 , -0.50975984],\n",
              "       [ 1.5383922 ,  1.03436705],\n",
              "       [-0.09309048,  0.3216931 ],\n",
              "       [ 0.86660521,  1.0640618 ],\n",
              "       [-1.72457317,  0.3810826 ],\n",
              "       [ 0.86660521, -1.0442653 ],\n",
              "       [-0.95681661, -0.4206756 ],\n",
              "       [-0.86084704, -1.22243379],\n",
              "       [-0.57293833,  1.95490424],\n",
              "       [ 0.19481823, -0.3612861 ],\n",
              "       [-0.28502962, -0.33159135],\n",
              "       [-0.28502962,  0.64833533],\n",
              "       [-0.76487747, -0.59884408],\n",
              "       [ 0.2907878 , -0.3018966 ],\n",
              "       [ 0.2907878 , -0.53945459],\n",
              "       [-0.28502962, -0.92548631],\n",
              "       [-0.09309048,  0.05444037],\n",
              "       [ 0.38675737,  0.3216931 ],\n",
              "       [-1.53263403, -0.4206756 ],\n",
              "       [ 0.57869651, -0.89579156],\n",
              "       [-1.14875575, -0.77701257],\n",
              "       [-0.28502962, -0.74731782],\n",
              "       [-0.47696876, -1.13334955],\n",
              "       [ 0.67466608, -1.40060228],\n",
              "       [-1.05278618, -0.3612861 ],\n",
              "       [ 1.44242263,  0.08413512],\n",
              "       [ 2.11420962,  0.97497756],\n",
              "       [-0.86084704, -0.77701257],\n",
              "       [ 0.09884866,  1.92520949],\n",
              "       [ 0.09884866,  0.05444037],\n",
              "       [-1.6286036 , -0.03464387],\n",
              "       [ 0.38675737, -0.45037034],\n",
              "       [-0.09309048, -0.21281236],\n",
              "       [-1.14875575,  0.3216931 ],\n",
              "       [-0.28502962, -0.3018966 ],\n",
              "       [ 0.38675737, -0.48006509],\n",
              "       [ 1.82630091,  0.14352462],\n",
              "       [ 0.77063564, -0.3018966 ],\n",
              "       [ 0.2907878 , -0.50975984],\n",
              "       [ 0.00287909, -0.12372812],\n",
              "       [-0.28502962, -0.24250711],\n",
              "       [-1.34069489,  0.58894583],\n",
              "       [ 1.34645306, -0.92548631],\n",
              "       [-0.6689079 ,  1.45009353],\n",
              "       [ 0.19481823, -0.65823358],\n",
              "       [-0.38099919,  0.08413512],\n",
              "       [ 1.05854435,  0.55925109],\n",
              "       [-0.28502962,  0.17321936],\n",
              "       [-0.6689079 ,  0.05444037],\n",
              "       [-1.14875575, -1.54907602],\n",
              "       [-1.72457317, -0.98487581],\n",
              "       [-0.57293833, -1.51938127],\n",
              "       [-1.05278618, -1.54907602],\n",
              "       [ 0.00287909,  1.30161979],\n",
              "       [ 2.01824005,  1.8064305 ],\n",
              "       [-0.18906005, -1.07396005],\n",
              "       [-0.09309048, -1.07396005],\n",
              "       [ 1.05854435, -0.89579156],\n",
              "       [-0.76487747, -1.54907602],\n",
              "       [ 0.67466608, -1.40060228],\n",
              "       [-0.09309048,  0.23260886],\n",
              "       [-0.18906005,  2.22215697],\n",
              "       [ 0.38675737,  0.02474562],\n",
              "       [ 1.92227048,  2.22215697],\n",
              "       [ 0.00287909,  1.27192504],\n",
              "       [ 0.77063564,  0.55925109],\n",
              "       [ 1.82630091,  1.56887252],\n",
              "       [ 1.92227048, -1.37090753],\n",
              "       [-1.05278618,  0.61864058],\n",
              "       [ 0.38675737,  0.11382987],\n",
              "       [ 0.38675737,  1.03436705],\n",
              "       [-0.6689079 , -0.03464387],\n",
              "       [-0.95681661,  0.47016684],\n",
              "       [-0.95681661,  1.59856727],\n",
              "       [ 0.38675737,  0.3216931 ],\n",
              "       [ 1.05854435,  0.58894583],\n",
              "       [ 0.2907878 , -0.18311761],\n",
              "       [ 0.77063564, -1.40060228],\n",
              "       [-0.76487747,  0.29199835],\n",
              "       [-0.18906005,  0.88589331],\n",
              "       [-0.28502962,  0.05444037],\n",
              "       [ 0.77063564, -1.1036548 ],\n",
              "       [-1.82054274, -1.43029703],\n",
              "       [ 1.34645306,  2.04398848],\n",
              "       [-0.28502962, -0.12372812],\n",
              "       [-1.14875575,  0.44047209],\n",
              "       [ 0.77063564, -0.83640207],\n",
              "       [-1.53263403, -1.25212854],\n",
              "       [-0.86084704, -0.77701257],\n",
              "       [-0.6689079 ,  0.20291411],\n",
              "       [-1.05278618, -0.33159135],\n",
              "       [ 0.96257478, -1.19273904],\n",
              "       [ 0.2907878 ,  0.52955634],\n",
              "       [-1.34069489, -1.37090753],\n",
              "       [ 0.2907878 , -0.71762308],\n",
              "       [-0.28502962, -1.45999177],\n",
              "       [ 1.34645306,  0.61864058],\n",
              "       [ 2.11420962,  1.15314605],\n",
              "       [ 0.38675737, -0.12372812],\n",
              "       [-1.82054274,  0.02474562],\n",
              "       [-0.6689079 , -0.33159135],\n",
              "       [ 1.92227048, -0.65823358],\n",
              "       [-1.05278618,  0.55925109],\n",
              "       [-0.38099919,  1.36100928],\n",
              "       [ 0.00287909, -0.24250711],\n",
              "       [ 0.38675737, -0.45037034],\n",
              "       [ 2.01824005, -1.19273904],\n",
              "       [-0.76487747,  0.58894583],\n",
              "       [ 0.2907878 ,  0.29199835],\n",
              "       [-0.09309048,  0.70772483],\n",
              "       [ 0.09884866,  1.92520949],\n",
              "       [-0.28502962, -0.89579156],\n",
              "       [-0.86084704, -0.24250711],\n",
              "       [ 0.86660521,  2.22215697],\n",
              "       [-0.09309048,  0.08413512],\n",
              "       [-1.72457317,  0.3810826 ],\n",
              "       [ 0.09884866, -0.3018966 ],\n",
              "       [ 1.05854435, -0.98487581],\n",
              "       [-0.95681661,  0.29199835],\n",
              "       [-0.95681661,  0.58894583],\n",
              "       [ 0.48272694,  1.89551474],\n",
              "       [ 0.09884866,  0.17321936],\n",
              "       [-0.57293833,  1.50948302],\n",
              "       [-1.24472532,  0.3216931 ],\n",
              "       [-0.18906005, -0.18311761],\n",
              "       [ 2.01824005,  0.20291411],\n",
              "       [-0.18906005,  1.45009353],\n",
              "       [ 0.19481823,  0.17321936],\n",
              "       [ 0.96257478,  0.14352462],\n",
              "       [ 0.19481823, -0.27220186],\n",
              "       [-0.86084704, -0.65823358],\n",
              "       [-0.47696876, -1.22243379],\n",
              "       [ 1.73033134,  1.03436705],\n",
              "       [-1.72457317, -0.59884408],\n",
              "       [-0.28502962,  0.23260886],\n",
              "       [ 0.96257478, -0.83640207],\n",
              "       [ 0.77063564,  0.14352462],\n",
              "       [ 1.44242263,  2.19246222],\n",
              "       [ 0.2907878 ,  0.3216931 ],\n",
              "       [-0.57293833, -1.51938127],\n",
              "       [ 0.00287909, -0.56914934],\n",
              "       [-0.57293833,  0.91558806],\n",
              "       [-1.72457317, -1.37090753],\n",
              "       [-1.24472532, -1.40060228],\n",
              "       [ 0.00287909,  0.05444037],\n",
              "       [-0.28502962, -1.25212854],\n",
              "       [ 1.34645306,  1.33131453],\n",
              "       [-0.09309048, -0.48006509],\n",
              "       [-0.18906005,  0.17321936],\n",
              "       [ 1.05854435, -0.12372812],\n",
              "       [-0.6689079 , -1.51938127],\n",
              "       [-0.28502962,  0.08413512],\n",
              "       [ 2.11420962,  0.41077735],\n",
              "       [-1.14875575, -1.57877077],\n",
              "       [ 1.05854435,  0.49986159],\n",
              "       [ 0.19481823,  0.05444037],\n",
              "       [-1.91651231,  0.49986159],\n",
              "       [ 0.38675737, -0.12372812],\n",
              "       [ 1.05854435, -1.22243379],\n",
              "       [ 0.96257478,  0.61864058],\n",
              "       [ 2.01824005,  0.41077735],\n",
              "       [ 1.44242263,  1.03436705],\n",
              "       [ 0.86660521, -0.77701257],\n",
              "       [ 0.38675737,  0.61864058],\n",
              "       [ 0.09884866,  1.56887252],\n",
              "       [-1.43666446, -1.22243379],\n",
              "       [-1.14875575,  1.45009353],\n",
              "       [-1.6286036 , -1.57877077],\n",
              "       [-1.05278618,  2.01429374],\n",
              "       [ 0.19481823,  1.1234513 ],\n",
              "       [ 0.77063564,  0.29199835],\n",
              "       [-0.47696876, -0.83640207],\n",
              "       [-0.38099919, -0.77701257],\n",
              "       [ 1.5383922 , -1.28182329],\n",
              "       [-0.09309048,  0.29199835],\n",
              "       [-1.14875575,  0.08413512],\n",
              "       [ 0.38675737,  1.15314605],\n",
              "       [ 0.48272694,  1.77673575],\n",
              "       [-1.91651231,  0.3810826 ],\n",
              "       [-0.86084704,  0.41077735],\n",
              "       [ 0.86660521, -1.31151803],\n",
              "       [-0.28502962,  0.17321936],\n",
              "       [ 0.19481823,  0.26230361],\n",
              "       [-0.09309048,  0.26230361],\n",
              "       [-0.95681661,  0.52955634],\n",
              "       [-0.76487747,  1.39070403],\n",
              "       [-0.47696876, -0.77701257],\n",
              "       [ 0.96257478, -1.1630443 ],\n",
              "       [-0.09309048,  0.14352462],\n",
              "       [-1.34069489,  0.44047209],\n",
              "       [ 0.96257478, -1.07396005],\n",
              "       [ 0.00287909,  0.3216931 ],\n",
              "       [-1.43666446, -0.18311761],\n",
              "       [ 1.25048349,  2.28154647],\n",
              "       [ 1.82630091, -1.28182329],\n",
              "       [ 0.2907878 , -1.1630443 ],\n",
              "       [-1.6286036 ,  0.08413512],\n",
              "       [-0.28502962, -0.3612861 ],\n",
              "       [ 0.96257478,  1.83612525],\n",
              "       [ 1.92227048,  0.76711432],\n",
              "       [ 0.96257478,  2.04398848],\n",
              "       [ 1.82630091, -1.07396005],\n",
              "       [-0.6689079 , -1.0442653 ],\n",
              "       [ 1.44242263, -1.0442653 ],\n",
              "       [-0.47696876, -0.00494912],\n",
              "       [ 0.09884866,  0.05444037],\n",
              "       [ 0.2907878 ,  0.08413512],\n",
              "       [ 0.09884866,  0.29199835],\n",
              "       [-1.05278618, -0.33159135],\n",
              "       [-0.38099919, -1.31151803],\n",
              "       [-0.47696876,  2.37063071],\n",
              "       [ 0.96257478,  0.79680907],\n",
              "       [-0.47696876, -0.53945459],\n",
              "       [ 0.86660521, -0.56914934],\n",
              "       [-0.76487747,  1.1234513 ],\n",
              "       [ 1.15451392, -0.74731782],\n",
              "       [-1.05278618,  0.79680907],\n",
              "       [ 0.09884866, -0.24250711],\n",
              "       [-1.34069489, -0.4206756 ],\n",
              "       [-0.6689079 ,  0.14352462],\n",
              "       [-1.34069489, -0.33159135],\n",
              "       [ 0.2907878 ,  0.05444037],\n",
              "       [ 0.86660521, -0.65823358],\n",
              "       [-0.95681661,  0.44047209],\n",
              "       [ 0.86660521, -1.1630443 ],\n",
              "       [-0.76487747,  0.3216931 ],\n",
              "       [-0.09309048, -0.4206756 ],\n",
              "       [ 1.92227048,  0.94528281],\n",
              "       [-0.57293833,  2.40032546],\n",
              "       [ 0.19481823,  2.16276748],\n",
              "       [-1.14875575, -1.1630443 ],\n",
              "       [ 0.00287909, -0.24250711],\n",
              "       [ 0.09884866, -0.80670732],\n",
              "       [ 0.19481823,  0.08413512],\n",
              "       [-1.24472532, -1.07396005],\n",
              "       [-0.47696876,  1.30161979],\n",
              "       [ 0.19481823, -0.3018966 ],\n",
              "       [-0.95681661, -1.1036548 ],\n",
              "       [ 1.63436177,  1.8064305 ],\n",
              "       [ 2.11420962, -1.0442653 ]])"
            ]
          },
          "metadata": {},
          "execution_count": 15
        }
      ]
    },
    {
      "cell_type": "code",
      "source": [
        "Sc.fit(X_test)\n",
        "X_ts=Sc.transform(X_test)\n",
        "X_ts"
      ],
      "metadata": {
        "colab": {
          "base_uri": "https://localhost:8080/"
        },
        "id": "q_gBcHUvpHy3",
        "outputId": "bef7bae7-d22c-4a8c-ca37-8b25ae83971f"
      },
      "execution_count": 16,
      "outputs": [
        {
          "output_type": "execute_result",
          "data": {
            "text/plain": [
              "array([[ 0.87960747,  0.69869621],\n",
              "       [-1.6768405 , -1.29513724],\n",
              "       [-0.06722511, -0.55457053],\n",
              "       [-1.20342421, -1.12423723],\n",
              "       [ 0.21682466,  0.15751284],\n",
              "       [ 0.02745814, -0.0418705 ],\n",
              "       [-0.25659163, -0.81092055],\n",
              "       [ 0.50087444,  0.10054617],\n",
              "       [-0.16190837, -0.5260872 ],\n",
              "       [ 0.50087444,  0.21447951],\n",
              "       [-0.06722511,  1.52471293],\n",
              "       [-1.10874095,  0.5277962 ],\n",
              "       [-0.73000792,  0.32841285],\n",
              "       [-0.5406414 , -0.15580384],\n",
              "       [-0.16190837, -0.69698721],\n",
              "       [-1.6768405 , -1.32362058],\n",
              "       [-0.16190837,  2.1513463 ],\n",
              "       [ 0.31150792, -0.18428718],\n",
              "       [-1.01405769,  0.27144618],\n",
              "       [ 0.02745814,  0.10054617],\n",
              "       [ 1.06897398,  1.35381292],\n",
              "       [ 0.21682466,  0.0435795 ],\n",
              "       [ 2.20517308, -0.83940388],\n",
              "       [ 0.40619118,  0.01509617],\n",
              "       [ 0.78492421, -0.75395388],\n",
              "       [-0.63532466, -1.60845393],\n",
              "       [ 0.31150792, -0.41215386],\n",
              "       [ 2.01580657, -0.95333722],\n",
              "       [ 1.2583405 , -1.01030389],\n",
              "       [-1.20342421, -1.49452059],\n",
              "       [ 1.06897398,  1.78106294],\n",
              "       [-1.01405769, -1.60845393],\n",
              "       [ 1.16365724,  0.07206284],\n",
              "       [-1.29810747, -0.15580384],\n",
              "       [ 0.40619118,  0.01509617],\n",
              "       [-0.25659163,  1.15442957],\n",
              "       [ 0.50087444, -0.21277051],\n",
              "       [-0.16190837,  0.21447951],\n",
              "       [ 0.40619118,  0.01509617],\n",
              "       [-0.5406414 ,  0.49931286],\n",
              "       [ 0.02745814,  1.86651295],\n",
              "       [-0.91937444, -0.49760386],\n",
              "       [ 0.02745814,  2.12286296],\n",
              "       [ 0.31150792, -0.41215386],\n",
              "       [-1.39279073,  0.27144618],\n",
              "       [ 1.2583405 ,  0.47082953],\n",
              "       [-1.20342421, -1.26665391],\n",
              "       [-1.77152376, -0.09883717],\n",
              "       [ 1.16365724,  1.98044629],\n",
              "       [ 0.97429073,  1.1829129 ],\n",
              "       [ 0.97429073, -0.64002054],\n",
              "       [-0.16190837, -1.38058725],\n",
              "       [-0.5406414 , -1.60845393],\n",
              "       [-1.48747399,  0.47082953],\n",
              "       [ 0.31150792,  0.10054617],\n",
              "       [-0.82469118, -0.98182056],\n",
              "       [ 0.02745814,  2.06589629],\n",
              "       [ 0.97429073,  1.01201289],\n",
              "       [ 1.44770702, -1.43755392],\n",
              "       [ 0.21682466,  0.69869621],\n",
              "       [-0.16190837, -0.46912053],\n",
              "       [ 1.35302376,  1.78106294],\n",
              "       [-1.6768405 , -1.49452059],\n",
              "       [-0.91937444, -1.46603726],\n",
              "       [ 0.1221414 , -0.58305387],\n",
              "       [ 1.73175679, -0.92485389],\n",
              "       [-0.82469118, -0.35518719],\n",
              "       [-0.63532466,  0.44234619],\n",
              "       [ 2.20517308, -0.72547054],\n",
              "       [ 0.87960747,  1.29684624],\n",
              "       [ 0.78492421,  0.21447951],\n",
              "       [ 0.78492421,  1.69561294],\n",
              "       [-1.20342421, -0.46912053],\n",
              "       [ 1.2583405 , -1.46603726],\n",
              "       [ 0.78492421, -1.12423723],\n",
              "       [-0.35127489, -0.32670385],\n",
              "       [-1.6768405 ,  0.38537952],\n",
              "       [-0.91937444,  0.49931286],\n",
              "       [ 0.1221414 , -0.35518719],\n",
              "       [-0.63532466,  1.80954628],\n",
              "       [-0.16190837,  0.72717954],\n",
              "       [-0.16190837,  1.04049623],\n",
              "       [ 0.59555769,  1.15442957],\n",
              "       [-1.01405769, -1.12423723],\n",
              "       [-1.29810747, -0.66850387],\n",
              "       [ 2.20517308, -0.83940388],\n",
              "       [-1.58215724,  0.07206284],\n",
              "       [-0.06722511, -0.32670385],\n",
              "       [-0.16190837,  0.01509617],\n",
              "       [-1.58215724,  0.41386286],\n",
              "       [-0.06722511, -0.49760386],\n",
              "       [ 1.73175679,  1.52471293],\n",
              "       [ 0.02745814,  0.24296285],\n",
              "       [ 0.02745814, -0.41215386],\n",
              "       [-1.77152376, -0.55457053],\n",
              "       [ 0.1221414 , -0.01338717],\n",
              "       [-0.16190837, -0.6115372 ],\n",
              "       [-0.44595815,  1.29684624],\n",
              "       [ 2.11048982,  2.03741296],\n",
              "       [ 0.87960747, -1.23817057]])"
            ]
          },
          "metadata": {},
          "execution_count": 16
        }
      ]
    },
    {
      "cell_type": "code",
      "source": [
        "Y_traina=np.array(Y_train)"
      ],
      "metadata": {
        "id": "zHxt1uqTrQhs"
      },
      "execution_count": 17,
      "outputs": []
    },
    {
      "cell_type": "code",
      "source": [
        "Sc.fit(Y_traina.reshape(1,-1))\n",
        "Y_tr=Sc.transform(Y_traina.reshape(1,-1))\n",
        "Y_tr"
      ],
      "metadata": {
        "colab": {
          "base_uri": "https://localhost:8080/"
        },
        "id": "qEy_R1PSrXyE",
        "outputId": "6f49657e-7e2d-418d-b84c-4724c15d0e6e"
      },
      "execution_count": 18,
      "outputs": [
        {
          "output_type": "execute_result",
          "data": {
            "text/plain": [
              "array([[0., 0., 0., 0., 0., 0., 0., 0., 0., 0., 0., 0., 0., 0., 0., 0.,\n",
              "        0., 0., 0., 0., 0., 0., 0., 0., 0., 0., 0., 0., 0., 0., 0., 0.,\n",
              "        0., 0., 0., 0., 0., 0., 0., 0., 0., 0., 0., 0., 0., 0., 0., 0.,\n",
              "        0., 0., 0., 0., 0., 0., 0., 0., 0., 0., 0., 0., 0., 0., 0., 0.,\n",
              "        0., 0., 0., 0., 0., 0., 0., 0., 0., 0., 0., 0., 0., 0., 0., 0.,\n",
              "        0., 0., 0., 0., 0., 0., 0., 0., 0., 0., 0., 0., 0., 0., 0., 0.,\n",
              "        0., 0., 0., 0., 0., 0., 0., 0., 0., 0., 0., 0., 0., 0., 0., 0.,\n",
              "        0., 0., 0., 0., 0., 0., 0., 0., 0., 0., 0., 0., 0., 0., 0., 0.,\n",
              "        0., 0., 0., 0., 0., 0., 0., 0., 0., 0., 0., 0., 0., 0., 0., 0.,\n",
              "        0., 0., 0., 0., 0., 0., 0., 0., 0., 0., 0., 0., 0., 0., 0., 0.,\n",
              "        0., 0., 0., 0., 0., 0., 0., 0., 0., 0., 0., 0., 0., 0., 0., 0.,\n",
              "        0., 0., 0., 0., 0., 0., 0., 0., 0., 0., 0., 0., 0., 0., 0., 0.,\n",
              "        0., 0., 0., 0., 0., 0., 0., 0., 0., 0., 0., 0., 0., 0., 0., 0.,\n",
              "        0., 0., 0., 0., 0., 0., 0., 0., 0., 0., 0., 0., 0., 0., 0., 0.,\n",
              "        0., 0., 0., 0., 0., 0., 0., 0., 0., 0., 0., 0., 0., 0., 0., 0.,\n",
              "        0., 0., 0., 0., 0., 0., 0., 0., 0., 0., 0., 0., 0., 0., 0., 0.,\n",
              "        0., 0., 0., 0., 0., 0., 0., 0., 0., 0., 0., 0., 0., 0., 0., 0.,\n",
              "        0., 0., 0., 0., 0., 0., 0., 0., 0., 0., 0., 0., 0., 0., 0., 0.,\n",
              "        0., 0., 0., 0., 0., 0., 0., 0., 0., 0., 0., 0.]])"
            ]
          },
          "metadata": {},
          "execution_count": 18
        }
      ]
    },
    {
      "cell_type": "code",
      "source": [
        "Y_testa=np.array(Y_test)"
      ],
      "metadata": {
        "id": "6nu4g1jlq2vq"
      },
      "execution_count": 19,
      "outputs": []
    },
    {
      "cell_type": "code",
      "source": [
        "Sc.fit(Y_testa.reshape(1,-1))\n",
        "Y_ts=Sc.transform(Y_testa.reshape(1,-1))\n",
        "Y_ts"
      ],
      "metadata": {
        "colab": {
          "base_uri": "https://localhost:8080/"
        },
        "id": "j7pG52q4pTM_",
        "outputId": "7698300d-22ad-4a16-81a6-f54653b0a3cf"
      },
      "execution_count": 20,
      "outputs": [
        {
          "output_type": "execute_result",
          "data": {
            "text/plain": [
              "array([[0., 0., 0., 0., 0., 0., 0., 0., 0., 0., 0., 0., 0., 0., 0., 0.,\n",
              "        0., 0., 0., 0., 0., 0., 0., 0., 0., 0., 0., 0., 0., 0., 0., 0.,\n",
              "        0., 0., 0., 0., 0., 0., 0., 0., 0., 0., 0., 0., 0., 0., 0., 0.,\n",
              "        0., 0., 0., 0., 0., 0., 0., 0., 0., 0., 0., 0., 0., 0., 0., 0.,\n",
              "        0., 0., 0., 0., 0., 0., 0., 0., 0., 0., 0., 0., 0., 0., 0., 0.,\n",
              "        0., 0., 0., 0., 0., 0., 0., 0., 0., 0., 0., 0., 0., 0., 0., 0.,\n",
              "        0., 0., 0., 0.]])"
            ]
          },
          "metadata": {},
          "execution_count": 20
        }
      ]
    },
    {
      "cell_type": "markdown",
      "source": [
        "Building A Model\n",
        "*   Logistic Regression\n",
        "\n"
      ],
      "metadata": {
        "id": "QEaJz515Vc31"
      }
    },
    {
      "cell_type": "code",
      "source": [
        "Log=LogisticRegression()\n",
        "Log.fit(X_train,Y_train)"
      ],
      "metadata": {
        "colab": {
          "base_uri": "https://localhost:8080/",
          "height": 74
        },
        "id": "cw1tnWKLrdv1",
        "outputId": "36bdaac6-c3a5-4d23-b95c-6bbda2d73959"
      },
      "execution_count": 21,
      "outputs": [
        {
          "output_type": "execute_result",
          "data": {
            "text/plain": [
              "LogisticRegression()"
            ],
            "text/html": [
              "<style>#sk-container-id-1 {color: black;background-color: white;}#sk-container-id-1 pre{padding: 0;}#sk-container-id-1 div.sk-toggleable {background-color: white;}#sk-container-id-1 label.sk-toggleable__label {cursor: pointer;display: block;width: 100%;margin-bottom: 0;padding: 0.3em;box-sizing: border-box;text-align: center;}#sk-container-id-1 label.sk-toggleable__label-arrow:before {content: \"▸\";float: left;margin-right: 0.25em;color: #696969;}#sk-container-id-1 label.sk-toggleable__label-arrow:hover:before {color: black;}#sk-container-id-1 div.sk-estimator:hover label.sk-toggleable__label-arrow:before {color: black;}#sk-container-id-1 div.sk-toggleable__content {max-height: 0;max-width: 0;overflow: hidden;text-align: left;background-color: #f0f8ff;}#sk-container-id-1 div.sk-toggleable__content pre {margin: 0.2em;color: black;border-radius: 0.25em;background-color: #f0f8ff;}#sk-container-id-1 input.sk-toggleable__control:checked~div.sk-toggleable__content {max-height: 200px;max-width: 100%;overflow: auto;}#sk-container-id-1 input.sk-toggleable__control:checked~label.sk-toggleable__label-arrow:before {content: \"▾\";}#sk-container-id-1 div.sk-estimator input.sk-toggleable__control:checked~label.sk-toggleable__label {background-color: #d4ebff;}#sk-container-id-1 div.sk-label input.sk-toggleable__control:checked~label.sk-toggleable__label {background-color: #d4ebff;}#sk-container-id-1 input.sk-hidden--visually {border: 0;clip: rect(1px 1px 1px 1px);clip: rect(1px, 1px, 1px, 1px);height: 1px;margin: -1px;overflow: hidden;padding: 0;position: absolute;width: 1px;}#sk-container-id-1 div.sk-estimator {font-family: monospace;background-color: #f0f8ff;border: 1px dotted black;border-radius: 0.25em;box-sizing: border-box;margin-bottom: 0.5em;}#sk-container-id-1 div.sk-estimator:hover {background-color: #d4ebff;}#sk-container-id-1 div.sk-parallel-item::after {content: \"\";width: 100%;border-bottom: 1px solid gray;flex-grow: 1;}#sk-container-id-1 div.sk-label:hover label.sk-toggleable__label {background-color: #d4ebff;}#sk-container-id-1 div.sk-serial::before {content: \"\";position: absolute;border-left: 1px solid gray;box-sizing: border-box;top: 0;bottom: 0;left: 50%;z-index: 0;}#sk-container-id-1 div.sk-serial {display: flex;flex-direction: column;align-items: center;background-color: white;padding-right: 0.2em;padding-left: 0.2em;position: relative;}#sk-container-id-1 div.sk-item {position: relative;z-index: 1;}#sk-container-id-1 div.sk-parallel {display: flex;align-items: stretch;justify-content: center;background-color: white;position: relative;}#sk-container-id-1 div.sk-item::before, #sk-container-id-1 div.sk-parallel-item::before {content: \"\";position: absolute;border-left: 1px solid gray;box-sizing: border-box;top: 0;bottom: 0;left: 50%;z-index: -1;}#sk-container-id-1 div.sk-parallel-item {display: flex;flex-direction: column;z-index: 1;position: relative;background-color: white;}#sk-container-id-1 div.sk-parallel-item:first-child::after {align-self: flex-end;width: 50%;}#sk-container-id-1 div.sk-parallel-item:last-child::after {align-self: flex-start;width: 50%;}#sk-container-id-1 div.sk-parallel-item:only-child::after {width: 0;}#sk-container-id-1 div.sk-dashed-wrapped {border: 1px dashed gray;margin: 0 0.4em 0.5em 0.4em;box-sizing: border-box;padding-bottom: 0.4em;background-color: white;}#sk-container-id-1 div.sk-label label {font-family: monospace;font-weight: bold;display: inline-block;line-height: 1.2em;}#sk-container-id-1 div.sk-label-container {text-align: center;}#sk-container-id-1 div.sk-container {/* jupyter's `normalize.less` sets `[hidden] { display: none; }` but bootstrap.min.css set `[hidden] { display: none !important; }` so we also need the `!important` here to be able to override the default hidden behavior on the sphinx rendered scikit-learn.org. See: https://github.com/scikit-learn/scikit-learn/issues/21755 */display: inline-block !important;position: relative;}#sk-container-id-1 div.sk-text-repr-fallback {display: none;}</style><div id=\"sk-container-id-1\" class=\"sk-top-container\"><div class=\"sk-text-repr-fallback\"><pre>LogisticRegression()</pre><b>In a Jupyter environment, please rerun this cell to show the HTML representation or trust the notebook. <br />On GitHub, the HTML representation is unable to render, please try loading this page with nbviewer.org.</b></div><div class=\"sk-container\" hidden><div class=\"sk-item\"><div class=\"sk-estimator sk-toggleable\"><input class=\"sk-toggleable__control sk-hidden--visually\" id=\"sk-estimator-id-1\" type=\"checkbox\" checked><label for=\"sk-estimator-id-1\" class=\"sk-toggleable__label sk-toggleable__label-arrow\">LogisticRegression</label><div class=\"sk-toggleable__content\"><pre>LogisticRegression()</pre></div></div></div></div></div>"
            ]
          },
          "metadata": {},
          "execution_count": 21
        }
      ]
    },
    {
      "cell_type": "code",
      "source": [
        "Y_pred=Log.predict(X_test)\n",
        "Log_a = accuracy_score(Y_test, Y_pred)\n",
        "Log_cm = confusion_matrix(Y_test, Y_pred)\n",
        "print('Logistic Regression Accuracy:',Log_a)"
      ],
      "metadata": {
        "colab": {
          "base_uri": "https://localhost:8080/"
        },
        "id": "zrsCx6GRtoTi",
        "outputId": "c789a546-0bc3-47c5-9dcb-dc15e8ac469c"
      },
      "execution_count": 23,
      "outputs": [
        {
          "output_type": "stream",
          "name": "stdout",
          "text": [
            "Logistic Regression Accuracy: 0.66\n"
          ]
        }
      ]
    },
    {
      "cell_type": "code",
      "source": [
        "print('Logistic Regression Confusion Matrix:\\n\\n',Log_cm)\n",
        "print(classification_report(Y_test,Y_pred))"
      ],
      "metadata": {
        "colab": {
          "base_uri": "https://localhost:8080/"
        },
        "id": "-hvisNdyVtSZ",
        "outputId": "12d5b2ca-16d2-4b0f-b296-56e5a779e965"
      },
      "execution_count": 24,
      "outputs": [
        {
          "output_type": "stream",
          "name": "stdout",
          "text": [
            "Logistic Regression Confusion Matrix:\n",
            "\n",
            " [[66  0]\n",
            " [34  0]]\n",
            "              precision    recall  f1-score   support\n",
            "\n",
            "           0       0.66      1.00      0.80        66\n",
            "           1       0.00      0.00      0.00        34\n",
            "\n",
            "    accuracy                           0.66       100\n",
            "   macro avg       0.33      0.50      0.40       100\n",
            "weighted avg       0.44      0.66      0.52       100\n",
            "\n"
          ]
        },
        {
          "output_type": "stream",
          "name": "stderr",
          "text": [
            "/usr/local/lib/python3.10/dist-packages/sklearn/metrics/_classification.py:1344: UndefinedMetricWarning: Precision and F-score are ill-defined and being set to 0.0 in labels with no predicted samples. Use `zero_division` parameter to control this behavior.\n",
            "  _warn_prf(average, modifier, msg_start, len(result))\n",
            "/usr/local/lib/python3.10/dist-packages/sklearn/metrics/_classification.py:1344: UndefinedMetricWarning: Precision and F-score are ill-defined and being set to 0.0 in labels with no predicted samples. Use `zero_division` parameter to control this behavior.\n",
            "  _warn_prf(average, modifier, msg_start, len(result))\n",
            "/usr/local/lib/python3.10/dist-packages/sklearn/metrics/_classification.py:1344: UndefinedMetricWarning: Precision and F-score are ill-defined and being set to 0.0 in labels with no predicted samples. Use `zero_division` parameter to control this behavior.\n",
            "  _warn_prf(average, modifier, msg_start, len(result))\n"
          ]
        }
      ]
    },
    {
      "cell_type": "markdown",
      "source": [
        "*   KNN\n"
      ],
      "metadata": {
        "id": "zy1ZYxW5W_PA"
      }
    },
    {
      "cell_type": "code",
      "source": [
        "from sklearn.neighbors import KNeighborsClassifier"
      ],
      "metadata": {
        "id": "1vcyu9YluB1b"
      },
      "execution_count": 27,
      "outputs": []
    },
    {
      "cell_type": "code",
      "source": [
        "Knn=KNeighborsClassifier()\n",
        "Knn.fit(X_train,Y_train)"
      ],
      "metadata": {
        "colab": {
          "base_uri": "https://localhost:8080/",
          "height": 74
        },
        "id": "mVWWfH7EuRD4",
        "outputId": "fb533757-bd59-4427-9192-85a65c0316c7"
      },
      "execution_count": 28,
      "outputs": [
        {
          "output_type": "execute_result",
          "data": {
            "text/plain": [
              "KNeighborsClassifier()"
            ],
            "text/html": [
              "<style>#sk-container-id-2 {color: black;background-color: white;}#sk-container-id-2 pre{padding: 0;}#sk-container-id-2 div.sk-toggleable {background-color: white;}#sk-container-id-2 label.sk-toggleable__label {cursor: pointer;display: block;width: 100%;margin-bottom: 0;padding: 0.3em;box-sizing: border-box;text-align: center;}#sk-container-id-2 label.sk-toggleable__label-arrow:before {content: \"▸\";float: left;margin-right: 0.25em;color: #696969;}#sk-container-id-2 label.sk-toggleable__label-arrow:hover:before {color: black;}#sk-container-id-2 div.sk-estimator:hover label.sk-toggleable__label-arrow:before {color: black;}#sk-container-id-2 div.sk-toggleable__content {max-height: 0;max-width: 0;overflow: hidden;text-align: left;background-color: #f0f8ff;}#sk-container-id-2 div.sk-toggleable__content pre {margin: 0.2em;color: black;border-radius: 0.25em;background-color: #f0f8ff;}#sk-container-id-2 input.sk-toggleable__control:checked~div.sk-toggleable__content {max-height: 200px;max-width: 100%;overflow: auto;}#sk-container-id-2 input.sk-toggleable__control:checked~label.sk-toggleable__label-arrow:before {content: \"▾\";}#sk-container-id-2 div.sk-estimator input.sk-toggleable__control:checked~label.sk-toggleable__label {background-color: #d4ebff;}#sk-container-id-2 div.sk-label input.sk-toggleable__control:checked~label.sk-toggleable__label {background-color: #d4ebff;}#sk-container-id-2 input.sk-hidden--visually {border: 0;clip: rect(1px 1px 1px 1px);clip: rect(1px, 1px, 1px, 1px);height: 1px;margin: -1px;overflow: hidden;padding: 0;position: absolute;width: 1px;}#sk-container-id-2 div.sk-estimator {font-family: monospace;background-color: #f0f8ff;border: 1px dotted black;border-radius: 0.25em;box-sizing: border-box;margin-bottom: 0.5em;}#sk-container-id-2 div.sk-estimator:hover {background-color: #d4ebff;}#sk-container-id-2 div.sk-parallel-item::after {content: \"\";width: 100%;border-bottom: 1px solid gray;flex-grow: 1;}#sk-container-id-2 div.sk-label:hover label.sk-toggleable__label {background-color: #d4ebff;}#sk-container-id-2 div.sk-serial::before {content: \"\";position: absolute;border-left: 1px solid gray;box-sizing: border-box;top: 0;bottom: 0;left: 50%;z-index: 0;}#sk-container-id-2 div.sk-serial {display: flex;flex-direction: column;align-items: center;background-color: white;padding-right: 0.2em;padding-left: 0.2em;position: relative;}#sk-container-id-2 div.sk-item {position: relative;z-index: 1;}#sk-container-id-2 div.sk-parallel {display: flex;align-items: stretch;justify-content: center;background-color: white;position: relative;}#sk-container-id-2 div.sk-item::before, #sk-container-id-2 div.sk-parallel-item::before {content: \"\";position: absolute;border-left: 1px solid gray;box-sizing: border-box;top: 0;bottom: 0;left: 50%;z-index: -1;}#sk-container-id-2 div.sk-parallel-item {display: flex;flex-direction: column;z-index: 1;position: relative;background-color: white;}#sk-container-id-2 div.sk-parallel-item:first-child::after {align-self: flex-end;width: 50%;}#sk-container-id-2 div.sk-parallel-item:last-child::after {align-self: flex-start;width: 50%;}#sk-container-id-2 div.sk-parallel-item:only-child::after {width: 0;}#sk-container-id-2 div.sk-dashed-wrapped {border: 1px dashed gray;margin: 0 0.4em 0.5em 0.4em;box-sizing: border-box;padding-bottom: 0.4em;background-color: white;}#sk-container-id-2 div.sk-label label {font-family: monospace;font-weight: bold;display: inline-block;line-height: 1.2em;}#sk-container-id-2 div.sk-label-container {text-align: center;}#sk-container-id-2 div.sk-container {/* jupyter's `normalize.less` sets `[hidden] { display: none; }` but bootstrap.min.css set `[hidden] { display: none !important; }` so we also need the `!important` here to be able to override the default hidden behavior on the sphinx rendered scikit-learn.org. See: https://github.com/scikit-learn/scikit-learn/issues/21755 */display: inline-block !important;position: relative;}#sk-container-id-2 div.sk-text-repr-fallback {display: none;}</style><div id=\"sk-container-id-2\" class=\"sk-top-container\"><div class=\"sk-text-repr-fallback\"><pre>KNeighborsClassifier()</pre><b>In a Jupyter environment, please rerun this cell to show the HTML representation or trust the notebook. <br />On GitHub, the HTML representation is unable to render, please try loading this page with nbviewer.org.</b></div><div class=\"sk-container\" hidden><div class=\"sk-item\"><div class=\"sk-estimator sk-toggleable\"><input class=\"sk-toggleable__control sk-hidden--visually\" id=\"sk-estimator-id-2\" type=\"checkbox\" checked><label for=\"sk-estimator-id-2\" class=\"sk-toggleable__label sk-toggleable__label-arrow\">KNeighborsClassifier</label><div class=\"sk-toggleable__content\"><pre>KNeighborsClassifier()</pre></div></div></div></div></div>"
            ]
          },
          "metadata": {},
          "execution_count": 28
        }
      ]
    },
    {
      "cell_type": "code",
      "source": [
        "y_pred=Knn.predict(X_test)"
      ],
      "metadata": {
        "id": "_wk4TULEuvK8"
      },
      "execution_count": 29,
      "outputs": []
    },
    {
      "cell_type": "code",
      "source": [
        "Knn_a = accuracy_score(Y_test, y_pred)\n",
        "Knn_cm = confusion_matrix(Y_test, y_pred)\n",
        "print('Logistic Regression Accuracy:',Knn_a)\n",
        "print('Logistic Regression Confusion Matrix:\\n\\n',Knn_cm)\n",
        "print(classification_report(Y_test,Y_pred))"
      ],
      "metadata": {
        "colab": {
          "base_uri": "https://localhost:8080/"
        },
        "id": "kbMx9GMBWjOW",
        "outputId": "94a7e2b6-f8bf-4b12-9bbe-b64dd19308f1"
      },
      "execution_count": 30,
      "outputs": [
        {
          "output_type": "stream",
          "name": "stdout",
          "text": [
            "Logistic Regression Accuracy: 0.77\n",
            "Logistic Regression Confusion Matrix:\n",
            "\n",
            " [[58  8]\n",
            " [15 19]]\n",
            "              precision    recall  f1-score   support\n",
            "\n",
            "           0       0.66      1.00      0.80        66\n",
            "           1       0.00      0.00      0.00        34\n",
            "\n",
            "    accuracy                           0.66       100\n",
            "   macro avg       0.33      0.50      0.40       100\n",
            "weighted avg       0.44      0.66      0.52       100\n",
            "\n"
          ]
        },
        {
          "output_type": "stream",
          "name": "stderr",
          "text": [
            "/usr/local/lib/python3.10/dist-packages/sklearn/metrics/_classification.py:1344: UndefinedMetricWarning: Precision and F-score are ill-defined and being set to 0.0 in labels with no predicted samples. Use `zero_division` parameter to control this behavior.\n",
            "  _warn_prf(average, modifier, msg_start, len(result))\n",
            "/usr/local/lib/python3.10/dist-packages/sklearn/metrics/_classification.py:1344: UndefinedMetricWarning: Precision and F-score are ill-defined and being set to 0.0 in labels with no predicted samples. Use `zero_division` parameter to control this behavior.\n",
            "  _warn_prf(average, modifier, msg_start, len(result))\n",
            "/usr/local/lib/python3.10/dist-packages/sklearn/metrics/_classification.py:1344: UndefinedMetricWarning: Precision and F-score are ill-defined and being set to 0.0 in labels with no predicted samples. Use `zero_division` parameter to control this behavior.\n",
            "  _warn_prf(average, modifier, msg_start, len(result))\n"
          ]
        }
      ]
    }
  ]
}